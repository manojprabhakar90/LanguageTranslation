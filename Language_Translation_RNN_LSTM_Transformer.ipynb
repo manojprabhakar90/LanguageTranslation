{
 "cells": [
  {
   "cell_type": "markdown",
   "id": "b8ec9918",
   "metadata": {
    "_cell_guid": "b1076dfc-b9ad-4769-8c92-a6c4dae69d19",
    "_uuid": "8f2839f25d086af736a60e9eeb907d3b93b6e0e5",
    "papermill": {
     "duration": 0.010854,
     "end_time": "2023-12-02T14:21:41.061588",
     "exception": false,
     "start_time": "2023-12-02T14:21:41.050734",
     "status": "completed"
    },
    "tags": []
   },
   "source": [
    "# Introduction:\n",
    "\n",
    "Ever wondered how google translate works. When we are stuck in some foreign land that doesnt converse in English, the first thing we consider is to use Google translate and try to converse in local language. Translation is the process of converting text or speech from one language into another. Translation is important in many aspects. \n",
    "\n",
    "Translation can help in travel and tourism, translation helps in navigating foreign countries, understand their language, converse and understand their customs. \n",
    "\n",
    "Translation can also help in Research and Education. When someone has published research in their local language and there is no equivalent in English, translation can help. \n",
    "\n",
    "Translation bridges linguistic gaps, fostering communication, understanding, and collaboration among people from different linguistic backgrounds. It is a cornerstone of global interaction, essential for the flow of information and ideas in our increasingly interconnected world. \n",
    "\n",
    "There are around 3.6% of world population that converse in French. \n",
    "\n",
    "# Data Source:\n",
    "\n",
    "The data has been published at kaggle. https://www.kaggle.com/datasets/dhruvildave/en-fr-translation-dataset\n",
    "\n",
    "There are 22,520,736 translated sequences from English to French.\n",
    "\n",
    "We will use approximately 1,000,000 records for this modelling exercise\n",
    "\n",
    "# Model:\n",
    "\n",
    "The idea behind this project was to leverage RNN/LSTM and GRU to do Translation from English to French. This can be leveraged to other languages such as German/Spanish or any other languages. \""
   ]
  },
  {
   "cell_type": "markdown",
   "id": "03f30bb3",
   "metadata": {
    "papermill": {
     "duration": 0.010278,
     "end_time": "2023-12-02T14:21:41.082643",
     "exception": false,
     "start_time": "2023-12-02T14:21:41.072365",
     "status": "completed"
    },
    "tags": []
   },
   "source": [
    "# Importing Libraries"
   ]
  },
  {
   "cell_type": "code",
   "execution_count": 1,
   "id": "2380c5e1",
   "metadata": {
    "execution": {
     "iopub.execute_input": "2023-12-02T14:21:41.104394Z",
     "iopub.status.busy": "2023-12-02T14:21:41.104031Z",
     "iopub.status.idle": "2023-12-02T14:21:56.998399Z",
     "shell.execute_reply": "2023-12-02T14:21:56.997614Z"
    },
    "papermill": {
     "duration": 15.907875,
     "end_time": "2023-12-02T14:21:57.000698",
     "exception": false,
     "start_time": "2023-12-02T14:21:41.092823",
     "status": "completed"
    },
    "tags": []
   },
   "outputs": [],
   "source": [
    "import pandas as pd\n",
    "import numpy as np\n",
    "import os\n",
    "import string\n",
    "import seaborn as sns\n",
    "import matplotlib.pyplot as plt\n",
    "import re\n",
    "from tensorflow.keras.preprocessing.text import Tokenizer\n",
    "from tensorflow.keras.preprocessing.sequence import pad_sequences\n",
    "from sklearn.model_selection import train_test_split\n",
    "from tensorflow.keras.models import Sequential\n",
    "from tensorflow.keras.layers import Embedding, LSTM, Dense, Input, TimeDistributed,Bidirectional\n",
    "from tensorflow.keras.optimizers import Adam\n",
    "from transformers import AutoTokenizer, AutoModelForSeq2SeqLM\n",
    "import re\n",
    "import string\n",
    "import torch\n",
    "from tqdm.notebook import tqdm"
   ]
  },
  {
   "cell_type": "markdown",
   "id": "49e411bb",
   "metadata": {
    "papermill": {
     "duration": 0.01013,
     "end_time": "2023-12-02T14:21:57.021569",
     "exception": false,
     "start_time": "2023-12-02T14:21:57.011439",
     "status": "completed"
    },
    "tags": []
   },
   "source": [
    "# Reading CSV file"
   ]
  },
  {
   "cell_type": "code",
   "execution_count": 2,
   "id": "42cec8a9",
   "metadata": {
    "execution": {
     "iopub.execute_input": "2023-12-02T14:21:57.043626Z",
     "iopub.status.busy": "2023-12-02T14:21:57.043051Z",
     "iopub.status.idle": "2023-12-02T14:21:57.469959Z",
     "shell.execute_reply": "2023-12-02T14:21:57.469103Z"
    },
    "papermill": {
     "duration": 0.440426,
     "end_time": "2023-12-02T14:21:57.472275",
     "exception": false,
     "start_time": "2023-12-02T14:21:57.031849",
     "status": "completed"
    },
    "tags": []
   },
   "outputs": [],
   "source": [
    "data = pd.read_csv(\"../input/en-fr-translation-dataset/en-fr.csv\",nrows=50000)"
   ]
  },
  {
   "cell_type": "code",
   "execution_count": 3,
   "id": "332859bb",
   "metadata": {
    "execution": {
     "iopub.execute_input": "2023-12-02T14:21:57.495485Z",
     "iopub.status.busy": "2023-12-02T14:21:57.494847Z",
     "iopub.status.idle": "2023-12-02T14:21:57.510331Z",
     "shell.execute_reply": "2023-12-02T14:21:57.509470Z"
    },
    "papermill": {
     "duration": 0.029277,
     "end_time": "2023-12-02T14:21:57.512407",
     "exception": false,
     "start_time": "2023-12-02T14:21:57.483130",
     "status": "completed"
    },
    "tags": []
   },
   "outputs": [
    {
     "data": {
      "text/html": [
       "<div>\n",
       "<style scoped>\n",
       "    .dataframe tbody tr th:only-of-type {\n",
       "        vertical-align: middle;\n",
       "    }\n",
       "\n",
       "    .dataframe tbody tr th {\n",
       "        vertical-align: top;\n",
       "    }\n",
       "\n",
       "    .dataframe thead th {\n",
       "        text-align: right;\n",
       "    }\n",
       "</style>\n",
       "<table border=\"1\" class=\"dataframe\">\n",
       "  <thead>\n",
       "    <tr style=\"text-align: right;\">\n",
       "      <th></th>\n",
       "      <th>en</th>\n",
       "      <th>fr</th>\n",
       "    </tr>\n",
       "  </thead>\n",
       "  <tbody>\n",
       "    <tr>\n",
       "      <th>0</th>\n",
       "      <td>Changing Lives | Changing Society | How It Wor...</td>\n",
       "      <td>Il a transformé notre vie | Il a transformé la...</td>\n",
       "    </tr>\n",
       "    <tr>\n",
       "      <th>1</th>\n",
       "      <td>Site map</td>\n",
       "      <td>Plan du site</td>\n",
       "    </tr>\n",
       "    <tr>\n",
       "      <th>2</th>\n",
       "      <td>Feedback</td>\n",
       "      <td>Rétroaction</td>\n",
       "    </tr>\n",
       "    <tr>\n",
       "      <th>3</th>\n",
       "      <td>Credits</td>\n",
       "      <td>Crédits</td>\n",
       "    </tr>\n",
       "    <tr>\n",
       "      <th>4</th>\n",
       "      <td>Français</td>\n",
       "      <td>English</td>\n",
       "    </tr>\n",
       "  </tbody>\n",
       "</table>\n",
       "</div>"
      ],
      "text/plain": [
       "                                                  en  \\\n",
       "0  Changing Lives | Changing Society | How It Wor...   \n",
       "1                                           Site map   \n",
       "2                                           Feedback   \n",
       "3                                            Credits   \n",
       "4                                           Français   \n",
       "\n",
       "                                                  fr  \n",
       "0  Il a transformé notre vie | Il a transformé la...  \n",
       "1                                       Plan du site  \n",
       "2                                        Rétroaction  \n",
       "3                                            Crédits  \n",
       "4                                            English  "
      ]
     },
     "execution_count": 3,
     "metadata": {},
     "output_type": "execute_result"
    }
   ],
   "source": [
    "data.head(5)"
   ]
  },
  {
   "cell_type": "code",
   "execution_count": 4,
   "id": "fecb3f95",
   "metadata": {
    "execution": {
     "iopub.execute_input": "2023-12-02T14:21:57.534453Z",
     "iopub.status.busy": "2023-12-02T14:21:57.534188Z",
     "iopub.status.idle": "2023-12-02T14:21:57.539646Z",
     "shell.execute_reply": "2023-12-02T14:21:57.538776Z"
    },
    "papermill": {
     "duration": 0.018583,
     "end_time": "2023-12-02T14:21:57.541506",
     "exception": false,
     "start_time": "2023-12-02T14:21:57.522923",
     "status": "completed"
    },
    "tags": []
   },
   "outputs": [
    {
     "data": {
      "text/plain": [
       "(50000, 2)"
      ]
     },
     "execution_count": 4,
     "metadata": {},
     "output_type": "execute_result"
    }
   ],
   "source": [
    "data.shape"
   ]
  },
  {
   "cell_type": "markdown",
   "id": "07d1b998",
   "metadata": {
    "papermill": {
     "duration": 0.010355,
     "end_time": "2023-12-02T14:21:57.562435",
     "exception": false,
     "start_time": "2023-12-02T14:21:57.552080",
     "status": "completed"
    },
    "tags": []
   },
   "source": [
    "# Exploratory Data Analysis"
   ]
  },
  {
   "cell_type": "markdown",
   "id": "41ce9fca",
   "metadata": {
    "papermill": {
     "duration": 0.010666,
     "end_time": "2023-12-02T14:21:57.584024",
     "exception": false,
     "start_time": "2023-12-02T14:21:57.573358",
     "status": "completed"
    },
    "tags": []
   },
   "source": [
    "# Lets look at certain text pairs"
   ]
  },
  {
   "cell_type": "code",
   "execution_count": 5,
   "id": "3d80e5df",
   "metadata": {
    "execution": {
     "iopub.execute_input": "2023-12-02T14:21:57.607701Z",
     "iopub.status.busy": "2023-12-02T14:21:57.606903Z",
     "iopub.status.idle": "2023-12-02T14:21:57.626348Z",
     "shell.execute_reply": "2023-12-02T14:21:57.625507Z"
    },
    "papermill": {
     "duration": 0.033089,
     "end_time": "2023-12-02T14:21:57.628247",
     "exception": false,
     "start_time": "2023-12-02T14:21:57.595158",
     "status": "completed"
    },
    "tags": []
   },
   "outputs": [
    {
     "data": {
      "text/html": [
       "<div>\n",
       "<style scoped>\n",
       "    .dataframe tbody tr th:only-of-type {\n",
       "        vertical-align: middle;\n",
       "    }\n",
       "\n",
       "    .dataframe tbody tr th {\n",
       "        vertical-align: top;\n",
       "    }\n",
       "\n",
       "    .dataframe thead th {\n",
       "        text-align: right;\n",
       "    }\n",
       "</style>\n",
       "<table border=\"1\" class=\"dataframe\">\n",
       "  <thead>\n",
       "    <tr style=\"text-align: right;\">\n",
       "      <th></th>\n",
       "      <th>en</th>\n",
       "      <th>fr</th>\n",
       "    </tr>\n",
       "  </thead>\n",
       "  <tbody>\n",
       "    <tr>\n",
       "      <th>8</th>\n",
       "      <td>Cartoon</td>\n",
       "      <td>Bande dessinée</td>\n",
       "    </tr>\n",
       "  </tbody>\n",
       "</table>\n",
       "</div>"
      ],
      "text/plain": [
       "        en              fr\n",
       "8  Cartoon  Bande dessinée"
      ]
     },
     "execution_count": 5,
     "metadata": {},
     "output_type": "execute_result"
    }
   ],
   "source": [
    "data[data['en']=='Cartoon']"
   ]
  },
  {
   "cell_type": "code",
   "execution_count": 6,
   "id": "c90bfa46",
   "metadata": {
    "execution": {
     "iopub.execute_input": "2023-12-02T14:21:57.651279Z",
     "iopub.status.busy": "2023-12-02T14:21:57.650846Z",
     "iopub.status.idle": "2023-12-02T14:21:57.666579Z",
     "shell.execute_reply": "2023-12-02T14:21:57.665763Z"
    },
    "papermill": {
     "duration": 0.029067,
     "end_time": "2023-12-02T14:21:57.668357",
     "exception": false,
     "start_time": "2023-12-02T14:21:57.639290",
     "status": "completed"
    },
    "tags": []
   },
   "outputs": [
    {
     "data": {
      "text/html": [
       "<div>\n",
       "<style scoped>\n",
       "    .dataframe tbody tr th:only-of-type {\n",
       "        vertical-align: middle;\n",
       "    }\n",
       "\n",
       "    .dataframe tbody tr th {\n",
       "        vertical-align: top;\n",
       "    }\n",
       "\n",
       "    .dataframe thead th {\n",
       "        text-align: right;\n",
       "    }\n",
       "</style>\n",
       "<table border=\"1\" class=\"dataframe\">\n",
       "  <thead>\n",
       "    <tr style=\"text-align: right;\">\n",
       "      <th></th>\n",
       "      <th>en</th>\n",
       "      <th>fr</th>\n",
       "    </tr>\n",
       "  </thead>\n",
       "  <tbody>\n",
       "    <tr>\n",
       "      <th>9</th>\n",
       "      <td>Links</td>\n",
       "      <td>Liens</td>\n",
       "    </tr>\n",
       "  </tbody>\n",
       "</table>\n",
       "</div>"
      ],
      "text/plain": [
       "      en     fr\n",
       "9  Links  Liens"
      ]
     },
     "execution_count": 6,
     "metadata": {},
     "output_type": "execute_result"
    }
   ],
   "source": [
    "data[data['en']=='Links']"
   ]
  },
  {
   "cell_type": "code",
   "execution_count": 7,
   "id": "f582b112",
   "metadata": {
    "execution": {
     "iopub.execute_input": "2023-12-02T14:21:57.691136Z",
     "iopub.status.busy": "2023-12-02T14:21:57.690864Z",
     "iopub.status.idle": "2023-12-02T14:21:57.706526Z",
     "shell.execute_reply": "2023-12-02T14:21:57.705673Z"
    },
    "papermill": {
     "duration": 0.029092,
     "end_time": "2023-12-02T14:21:57.708319",
     "exception": false,
     "start_time": "2023-12-02T14:21:57.679227",
     "status": "completed"
    },
    "tags": []
   },
   "outputs": [
    {
     "data": {
      "text/html": [
       "<div>\n",
       "<style scoped>\n",
       "    .dataframe tbody tr th:only-of-type {\n",
       "        vertical-align: middle;\n",
       "    }\n",
       "\n",
       "    .dataframe tbody tr th {\n",
       "        vertical-align: top;\n",
       "    }\n",
       "\n",
       "    .dataframe thead th {\n",
       "        text-align: right;\n",
       "    }\n",
       "</style>\n",
       "<table border=\"1\" class=\"dataframe\">\n",
       "  <thead>\n",
       "    <tr style=\"text-align: right;\">\n",
       "      <th></th>\n",
       "      <th>en</th>\n",
       "      <th>fr</th>\n",
       "    </tr>\n",
       "  </thead>\n",
       "  <tbody>\n",
       "    <tr>\n",
       "      <th>8</th>\n",
       "      <td>Cartoon</td>\n",
       "      <td>Bande dessinée</td>\n",
       "    </tr>\n",
       "  </tbody>\n",
       "</table>\n",
       "</div>"
      ],
      "text/plain": [
       "        en              fr\n",
       "8  Cartoon  Bande dessinée"
      ]
     },
     "execution_count": 7,
     "metadata": {},
     "output_type": "execute_result"
    }
   ],
   "source": [
    "data[data['en']=='Cartoon']"
   ]
  },
  {
   "cell_type": "markdown",
   "id": "0b1b1b61",
   "metadata": {
    "papermill": {
     "duration": 0.010852,
     "end_time": "2023-12-02T14:21:57.730218",
     "exception": false,
     "start_time": "2023-12-02T14:21:57.719366",
     "status": "completed"
    },
    "tags": []
   },
   "source": [
    "# Count the number of words in each row"
   ]
  },
  {
   "cell_type": "code",
   "execution_count": 8,
   "id": "ba4e2c41",
   "metadata": {
    "execution": {
     "iopub.execute_input": "2023-12-02T14:21:57.753776Z",
     "iopub.status.busy": "2023-12-02T14:21:57.753503Z",
     "iopub.status.idle": "2023-12-02T14:21:57.985018Z",
     "shell.execute_reply": "2023-12-02T14:21:57.984330Z"
    },
    "papermill": {
     "duration": 0.245581,
     "end_time": "2023-12-02T14:21:57.986956",
     "exception": false,
     "start_time": "2023-12-02T14:21:57.741375",
     "status": "completed"
    },
    "tags": []
   },
   "outputs": [],
   "source": [
    "def count_words(text):\n",
    "    return len(str(text).split())\n",
    "\n",
    "data['English_Word_Count'] = data['en'].apply(count_words)\n",
    "data['French_Word_Count'] = data['fr'].apply(count_words)"
   ]
  },
  {
   "cell_type": "code",
   "execution_count": 9,
   "id": "09871429",
   "metadata": {
    "execution": {
     "iopub.execute_input": "2023-12-02T14:21:58.010480Z",
     "iopub.status.busy": "2023-12-02T14:21:58.010172Z",
     "iopub.status.idle": "2023-12-02T14:21:58.019311Z",
     "shell.execute_reply": "2023-12-02T14:21:58.018519Z"
    },
    "papermill": {
     "duration": 0.023002,
     "end_time": "2023-12-02T14:21:58.021201",
     "exception": false,
     "start_time": "2023-12-02T14:21:57.998199",
     "status": "completed"
    },
    "tags": []
   },
   "outputs": [
    {
     "data": {
      "text/html": [
       "<div>\n",
       "<style scoped>\n",
       "    .dataframe tbody tr th:only-of-type {\n",
       "        vertical-align: middle;\n",
       "    }\n",
       "\n",
       "    .dataframe tbody tr th {\n",
       "        vertical-align: top;\n",
       "    }\n",
       "\n",
       "    .dataframe thead th {\n",
       "        text-align: right;\n",
       "    }\n",
       "</style>\n",
       "<table border=\"1\" class=\"dataframe\">\n",
       "  <thead>\n",
       "    <tr style=\"text-align: right;\">\n",
       "      <th></th>\n",
       "      <th>en</th>\n",
       "      <th>fr</th>\n",
       "      <th>English_Word_Count</th>\n",
       "      <th>French_Word_Count</th>\n",
       "    </tr>\n",
       "  </thead>\n",
       "  <tbody>\n",
       "    <tr>\n",
       "      <th>0</th>\n",
       "      <td>Changing Lives | Changing Society | How It Wor...</td>\n",
       "      <td>Il a transformé notre vie | Il a transformé la...</td>\n",
       "      <td>37</td>\n",
       "      <td>42</td>\n",
       "    </tr>\n",
       "    <tr>\n",
       "      <th>1</th>\n",
       "      <td>Site map</td>\n",
       "      <td>Plan du site</td>\n",
       "      <td>2</td>\n",
       "      <td>3</td>\n",
       "    </tr>\n",
       "    <tr>\n",
       "      <th>2</th>\n",
       "      <td>Feedback</td>\n",
       "      <td>Rétroaction</td>\n",
       "      <td>1</td>\n",
       "      <td>1</td>\n",
       "    </tr>\n",
       "    <tr>\n",
       "      <th>3</th>\n",
       "      <td>Credits</td>\n",
       "      <td>Crédits</td>\n",
       "      <td>1</td>\n",
       "      <td>1</td>\n",
       "    </tr>\n",
       "    <tr>\n",
       "      <th>4</th>\n",
       "      <td>Français</td>\n",
       "      <td>English</td>\n",
       "      <td>1</td>\n",
       "      <td>1</td>\n",
       "    </tr>\n",
       "  </tbody>\n",
       "</table>\n",
       "</div>"
      ],
      "text/plain": [
       "                                                  en  \\\n",
       "0  Changing Lives | Changing Society | How It Wor...   \n",
       "1                                           Site map   \n",
       "2                                           Feedback   \n",
       "3                                            Credits   \n",
       "4                                           Français   \n",
       "\n",
       "                                                  fr  English_Word_Count  \\\n",
       "0  Il a transformé notre vie | Il a transformé la...                  37   \n",
       "1                                       Plan du site                   2   \n",
       "2                                        Rétroaction                   1   \n",
       "3                                            Crédits                   1   \n",
       "4                                            English                   1   \n",
       "\n",
       "   French_Word_Count  \n",
       "0                 42  \n",
       "1                  3  \n",
       "2                  1  \n",
       "3                  1  \n",
       "4                  1  "
      ]
     },
     "execution_count": 9,
     "metadata": {},
     "output_type": "execute_result"
    }
   ],
   "source": [
    "data.head(5)"
   ]
  },
  {
   "cell_type": "markdown",
   "id": "ab7a76a8",
   "metadata": {
    "papermill": {
     "duration": 0.011035,
     "end_time": "2023-12-02T14:21:58.043580",
     "exception": false,
     "start_time": "2023-12-02T14:21:58.032545",
     "status": "completed"
    },
    "tags": []
   },
   "source": [
    "#  Checking the Histogram of Word Count - English"
   ]
  },
  {
   "cell_type": "code",
   "execution_count": 10,
   "id": "2645cda9",
   "metadata": {
    "execution": {
     "iopub.execute_input": "2023-12-02T14:21:58.067115Z",
     "iopub.status.busy": "2023-12-02T14:21:58.066870Z",
     "iopub.status.idle": "2023-12-02T14:21:58.533674Z",
     "shell.execute_reply": "2023-12-02T14:21:58.532640Z"
    },
    "papermill": {
     "duration": 0.481244,
     "end_time": "2023-12-02T14:21:58.536029",
     "exception": false,
     "start_time": "2023-12-02T14:21:58.054785",
     "status": "completed"
    },
    "tags": []
   },
   "outputs": [
    {
     "data": {
      "text/plain": [
       "<Axes: >"
      ]
     },
     "execution_count": 10,
     "metadata": {},
     "output_type": "execute_result"
    },
    {
     "data": {
      "image/png": "[encoded data removed]",
      "text/plain": [
       "<Figure size 640x480 with 1 Axes>"
      ]
     },
     "metadata": {},
     "output_type": "display_data"
    }
   ],
   "source": [
    "data['English_Word_Count'].hist(bins=100)"
   ]
  },
  {
   "cell_type": "markdown",
   "id": "0aaf3009",
   "metadata": {
    "papermill": {
     "duration": 0.011459,
     "end_time": "2023-12-02T14:21:58.559810",
     "exception": false,
     "start_time": "2023-12-02T14:21:58.548351",
     "status": "completed"
    },
    "tags": []
   },
   "source": [
    "# Checking the Word Count - French"
   ]
  },
  {
   "cell_type": "code",
   "execution_count": 11,
   "id": "118f1ec7",
   "metadata": {
    "execution": {
     "iopub.execute_input": "2023-12-02T14:21:58.626793Z",
     "iopub.status.busy": "2023-12-02T14:21:58.626325Z",
     "iopub.status.idle": "2023-12-02T14:21:59.058195Z",
     "shell.execute_reply": "2023-12-02T14:21:59.057137Z"
    },
    "papermill": {
     "duration": 0.447371,
     "end_time": "2023-12-02T14:21:59.060645",
     "exception": false,
     "start_time": "2023-12-02T14:21:58.613274",
     "status": "completed"
    },
    "tags": []
   },
   "outputs": [
    {
     "data": {
      "text/plain": [
       "<Axes: >"
      ]
     },
     "execution_count": 11,
     "metadata": {},
     "output_type": "execute_result"
    },
    {
     "data": {
      "image/png": "[encoded data removed]",
      "text/plain": [
       "<Figure size 640x480 with 1 Axes>"
      ]
     },
     "metadata": {},
     "output_type": "display_data"
    }
   ],
   "source": [
    "data['French_Word_Count'].hist(bins=100)"
   ]
  },
  {
   "cell_type": "code",
   "execution_count": 12,
   "id": "b4f83ab9",
   "metadata": {
    "execution": {
     "iopub.execute_input": "2023-12-02T14:21:59.092728Z",
     "iopub.status.busy": "2023-12-02T14:21:59.092344Z",
     "iopub.status.idle": "2023-12-02T14:21:59.105765Z",
     "shell.execute_reply": "2023-12-02T14:21:59.104892Z"
    },
    "papermill": {
     "duration": 0.029459,
     "end_time": "2023-12-02T14:21:59.108370",
     "exception": false,
     "start_time": "2023-12-02T14:21:59.078911",
     "status": "completed"
    },
    "tags": []
   },
   "outputs": [
    {
     "data": {
      "text/plain": [
       "count    50000.000000\n",
       "mean        18.495740\n",
       "std         14.728359\n",
       "min          1.000000\n",
       "25%         10.000000\n",
       "50%         17.000000\n",
       "75%         24.000000\n",
       "max        939.000000\n",
       "Name: English_Word_Count, dtype: float64"
      ]
     },
     "execution_count": 12,
     "metadata": {},
     "output_type": "execute_result"
    }
   ],
   "source": [
    "data['English_Word_Count'].describe()"
   ]
  },
  {
   "cell_type": "code",
   "execution_count": 13,
   "id": "26ff3dfe",
   "metadata": {
    "execution": {
     "iopub.execute_input": "2023-12-02T14:21:59.136954Z",
     "iopub.status.busy": "2023-12-02T14:21:59.136672Z",
     "iopub.status.idle": "2023-12-02T14:21:59.146565Z",
     "shell.execute_reply": "2023-12-02T14:21:59.145720Z"
    },
    "papermill": {
     "duration": 0.025485,
     "end_time": "2023-12-02T14:21:59.148824",
     "exception": false,
     "start_time": "2023-12-02T14:21:59.123339",
     "status": "completed"
    },
    "tags": []
   },
   "outputs": [
    {
     "data": {
      "text/plain": [
       "count    50000.000000\n",
       "mean        22.450640\n",
       "std         17.730463\n",
       "min          1.000000\n",
       "25%         12.000000\n",
       "50%         20.000000\n",
       "75%         29.000000\n",
       "max        979.000000\n",
       "Name: French_Word_Count, dtype: float64"
      ]
     },
     "execution_count": 13,
     "metadata": {},
     "output_type": "execute_result"
    }
   ],
   "source": [
    "data['French_Word_Count'].describe()"
   ]
  },
  {
   "cell_type": "markdown",
   "id": "19c0bf70",
   "metadata": {
    "papermill": {
     "duration": 0.012559,
     "end_time": "2023-12-02T14:21:59.179005",
     "exception": false,
     "start_time": "2023-12-02T14:21:59.166446",
     "status": "completed"
    },
    "tags": []
   },
   "source": [
    "# Data Preprocessing\n",
    "\n",
    "1. Converting the data to lower case\n",
    "2. Removing Punctuation, Apostrophe\n",
    "3. Removing Digits"
   ]
  },
  {
   "cell_type": "code",
   "execution_count": 14,
   "id": "cb7c2f46",
   "metadata": {
    "execution": {
     "iopub.execute_input": "2023-12-02T14:21:59.206409Z",
     "iopub.status.busy": "2023-12-02T14:21:59.206113Z",
     "iopub.status.idle": "2023-12-02T14:22:02.050050Z",
     "shell.execute_reply": "2023-12-02T14:22:02.049079Z"
    },
    "papermill": {
     "duration": 2.860896,
     "end_time": "2023-12-02T14:22:02.052479",
     "exception": false,
     "start_time": "2023-12-02T14:21:59.191583",
     "status": "completed"
    },
    "tags": []
   },
   "outputs": [],
   "source": [
    "data['en'] = data['en'].apply(lambda x: str(x).lower()) # Converting everything to lower \n",
    "data['fr'] = data['fr'].apply(lambda x: str(x).lower()) # Converting everything to lower \n",
    "data['en'] = data['en'].apply(lambda x: re.sub(\"'\",\"\",x)) # Removing Apostrophe\n",
    "data['fr'] = data['fr'].apply(lambda x: re.sub(\"'\",\"\",x))# Removing Apostrophe\n",
    "removal = set(string.punctuation) # Declaring Punctutations\n",
    "data['en'] = data['en'].apply(lambda x: ''.join(ch for ch in x if ch not in removal)) # Removing Punctuations\n",
    "data['fr'] = data['fr'].apply(lambda x: ''.join(ch for ch in x if ch not in removal))# Removing Punctuations\n",
    "digits = str.maketrans('','',string.digits) # Declaring Digits\n",
    "data['en'] = data['en'].apply(lambda x: x.translate(digits)) # Removing digits from sentences\n",
    "data['fr'] = data['fr'].apply(lambda x: x.translate(digits))# Removing digits from sentences"
   ]
  },
  {
   "cell_type": "code",
   "execution_count": 15,
   "id": "2bccb667",
   "metadata": {
    "execution": {
     "iopub.execute_input": "2023-12-02T14:22:02.082050Z",
     "iopub.status.busy": "2023-12-02T14:22:02.081744Z",
     "iopub.status.idle": "2023-12-02T14:22:02.091803Z",
     "shell.execute_reply": "2023-12-02T14:22:02.090948Z"
    },
    "papermill": {
     "duration": 0.027577,
     "end_time": "2023-12-02T14:22:02.093865",
     "exception": false,
     "start_time": "2023-12-02T14:22:02.066288",
     "status": "completed"
    },
    "tags": []
   },
   "outputs": [
    {
     "data": {
      "text/html": [
       "<div>\n",
       "<style scoped>\n",
       "    .dataframe tbody tr th:only-of-type {\n",
       "        vertical-align: middle;\n",
       "    }\n",
       "\n",
       "    .dataframe tbody tr th {\n",
       "        vertical-align: top;\n",
       "    }\n",
       "\n",
       "    .dataframe thead th {\n",
       "        text-align: right;\n",
       "    }\n",
       "</style>\n",
       "<table border=\"1\" class=\"dataframe\">\n",
       "  <thead>\n",
       "    <tr style=\"text-align: right;\">\n",
       "      <th></th>\n",
       "      <th>en</th>\n",
       "      <th>fr</th>\n",
       "      <th>English_Word_Count</th>\n",
       "      <th>French_Word_Count</th>\n",
       "    </tr>\n",
       "  </thead>\n",
       "  <tbody>\n",
       "    <tr>\n",
       "      <th>0</th>\n",
       "      <td>changing lives  changing society  how it works...</td>\n",
       "      <td>il a transformé notre vie  il a transformé la ...</td>\n",
       "      <td>37</td>\n",
       "      <td>42</td>\n",
       "    </tr>\n",
       "    <tr>\n",
       "      <th>1</th>\n",
       "      <td>site map</td>\n",
       "      <td>plan du site</td>\n",
       "      <td>2</td>\n",
       "      <td>3</td>\n",
       "    </tr>\n",
       "    <tr>\n",
       "      <th>2</th>\n",
       "      <td>feedback</td>\n",
       "      <td>rétroaction</td>\n",
       "      <td>1</td>\n",
       "      <td>1</td>\n",
       "    </tr>\n",
       "    <tr>\n",
       "      <th>3</th>\n",
       "      <td>credits</td>\n",
       "      <td>crédits</td>\n",
       "      <td>1</td>\n",
       "      <td>1</td>\n",
       "    </tr>\n",
       "    <tr>\n",
       "      <th>4</th>\n",
       "      <td>français</td>\n",
       "      <td>english</td>\n",
       "      <td>1</td>\n",
       "      <td>1</td>\n",
       "    </tr>\n",
       "  </tbody>\n",
       "</table>\n",
       "</div>"
      ],
      "text/plain": [
       "                                                  en  \\\n",
       "0  changing lives  changing society  how it works...   \n",
       "1                                           site map   \n",
       "2                                           feedback   \n",
       "3                                            credits   \n",
       "4                                           français   \n",
       "\n",
       "                                                  fr  English_Word_Count  \\\n",
       "0  il a transformé notre vie  il a transformé la ...                  37   \n",
       "1                                       plan du site                   2   \n",
       "2                                        rétroaction                   1   \n",
       "3                                            crédits                   1   \n",
       "4                                            english                   1   \n",
       "\n",
       "   French_Word_Count  \n",
       "0                 42  \n",
       "1                  3  \n",
       "2                  1  \n",
       "3                  1  \n",
       "4                  1  "
      ]
     },
     "execution_count": 15,
     "metadata": {},
     "output_type": "execute_result"
    }
   ],
   "source": [
    "data.head(5)"
   ]
  },
  {
   "cell_type": "markdown",
   "id": "e8bf4d87",
   "metadata": {
    "papermill": {
     "duration": 0.013049,
     "end_time": "2023-12-02T14:22:02.119683",
     "exception": false,
     "start_time": "2023-12-02T14:22:02.106634",
     "status": "completed"
    },
    "tags": []
   },
   "source": [
    "# Background on RNNs:\n",
    "\n",
    "RNNs are neural networks designed for processing sequences of data, such as time series data or natural language. They are \"recurrent\" because they perform the same task for every element of a sequence, with the output being dependent on previous computations.\n",
    "However, RNNs often struggle with long-term dependencies due to problems like vanishing gradients, where the influence of input data diminishes as the gap between relevant information and the point where it's needed grows. There are also Exploding Gradients problem, where the gradients become too big for the RNN and it would become difficult to train. \n",
    "\n",
    "# Introduction to LSTM:\n",
    "\n",
    "LSTM was introduced by Sepp Hochreiter and Jürgen Schmidhuber in 1997 as a solution to the vanishing gradient problem.An LSTM unit is composed of a cell, an input gate, an output gate, and a forget gate. The cell is responsible for \"remembering\" values over arbitrary time intervals; each of the three gates regulates the flow of information into and out of the cell.\n",
    "Key Components of LSTM:\n",
    "\n",
    "# Cell State: \n",
    "\n",
    "This is the core of the LSTM unit. It acts as a kind of conveyor belt, running straight down the entire chain of LSTM layers. It can carry relevant information throughout the processing of the sequence. Thus, information can be easily added or removed to the cell state via gates.\n",
    "\n",
    "# Input Gate: \n",
    "\n",
    "This gate decides what new information is going to be stored in the cell state.\n",
    "\n",
    "# Forget Gate: \n",
    "\n",
    "It determines what information is going to be thrown away from the cell state.\n",
    "\n",
    "# Output Gate: \n",
    "\n",
    "This gate decides what the next hidden state should be, which is used to make predictions or to pass on to the next LSTM cell.\n",
    "\n",
    "# Applications of LSTM: \n",
    "\n",
    "LSTM can be used for Translation, Time Series. \n",
    "\n",
    "We are using LSTM for English to French Translation"
   ]
  },
  {
   "cell_type": "markdown",
   "id": "536beb9e",
   "metadata": {
    "papermill": {
     "duration": 0.012448,
     "end_time": "2023-12-02T14:22:02.145035",
     "exception": false,
     "start_time": "2023-12-02T14:22:02.132587",
     "status": "completed"
    },
    "tags": []
   },
   "source": [
    "# Steps Followed For Modeling. \n",
    "\n",
    "1. Tokenization\n",
    "2. Create Train Test Split 70% and 30% - Training and Test Data\n",
    "3. Fit a LSTM model on Training data and predict on test data.\n",
    "4. Creating a function to predict for new english word"
   ]
  },
  {
   "cell_type": "code",
   "execution_count": 16,
   "id": "820d4d2e",
   "metadata": {
    "execution": {
     "iopub.execute_input": "2023-12-02T14:22:02.172127Z",
     "iopub.status.busy": "2023-12-02T14:22:02.171489Z",
     "iopub.status.idle": "2023-12-02T14:22:08.932772Z",
     "shell.execute_reply": "2023-12-02T14:22:08.931677Z"
    },
    "papermill": {
     "duration": 6.777244,
     "end_time": "2023-12-02T14:22:08.935112",
     "exception": false,
     "start_time": "2023-12-02T14:22:02.157868",
     "status": "completed"
    },
    "tags": []
   },
   "outputs": [],
   "source": [
    "# Tokenize English sentences\n",
    "eng_tokenizer = Tokenizer()\n",
    "eng_tokenizer.fit_on_texts(data['en'])\n",
    "eng_seq = eng_tokenizer.texts_to_sequences(data['en'])\n",
    "eng_seq = pad_sequences(eng_seq, padding='post')\n",
    "\n",
    "# Tokenize French sentences\n",
    "fr_tokenizer = Tokenizer()\n",
    "fr_tokenizer.fit_on_texts(data['fr'])\n",
    "fr_seq = fr_tokenizer.texts_to_sequences(data['fr'])\n",
    "fr_seq = pad_sequences(fr_seq, padding='post')\n"
   ]
  },
  {
   "cell_type": "code",
   "execution_count": 17,
   "id": "fd5bc939",
   "metadata": {
    "execution": {
     "iopub.execute_input": "2023-12-02T14:22:08.962563Z",
     "iopub.status.busy": "2023-12-02T14:22:08.962247Z",
     "iopub.status.idle": "2023-12-02T14:22:09.046802Z",
     "shell.execute_reply": "2023-12-02T14:22:09.045698Z"
    },
    "papermill": {
     "duration": 0.100778,
     "end_time": "2023-12-02T14:22:09.049179",
     "exception": false,
     "start_time": "2023-12-02T14:22:08.948401",
     "status": "completed"
    },
    "tags": []
   },
   "outputs": [],
   "source": [
    "eng_train, eng_test, fr_train, fr_test = train_test_split(eng_seq, fr_seq, test_size=0.2)"
   ]
  },
  {
   "cell_type": "code",
   "execution_count": 18,
   "id": "3738f080",
   "metadata": {
    "execution": {
     "iopub.execute_input": "2023-12-02T14:22:09.077156Z",
     "iopub.status.busy": "2023-12-02T14:22:09.076852Z",
     "iopub.status.idle": "2023-12-02T14:22:09.082012Z",
     "shell.execute_reply": "2023-12-02T14:22:09.081147Z"
    },
    "papermill": {
     "duration": 0.021324,
     "end_time": "2023-12-02T14:22:09.084030",
     "exception": false,
     "start_time": "2023-12-02T14:22:09.062706",
     "status": "completed"
    },
    "tags": []
   },
   "outputs": [
    {
     "name": "stdout",
     "output_type": "stream",
     "text": [
      "English sequences shape: (40000, 575)\n",
      "French sequences shape: (40000, 556)\n",
      "French vocabulary size: 47390\n"
     ]
    }
   ],
   "source": [
    "print(\"English sequences shape:\", eng_train.shape)\n",
    "print(\"French sequences shape:\", fr_train.shape)\n",
    "print(\"French vocabulary size:\", len(fr_tokenizer.word_index) + 1)\n"
   ]
  },
  {
   "cell_type": "code",
   "execution_count": 19,
   "id": "6c54efe7",
   "metadata": {
    "execution": {
     "iopub.execute_input": "2023-12-02T14:22:09.111109Z",
     "iopub.status.busy": "2023-12-02T14:22:09.110810Z",
     "iopub.status.idle": "2023-12-02T14:22:09.306505Z",
     "shell.execute_reply": "2023-12-02T14:22:09.305708Z"
    },
    "papermill": {
     "duration": 0.211825,
     "end_time": "2023-12-02T14:22:09.308698",
     "exception": false,
     "start_time": "2023-12-02T14:22:09.096873",
     "status": "completed"
    },
    "tags": []
   },
   "outputs": [],
   "source": [
    "fr_seq = pad_sequences(fr_seq, maxlen=575, padding='post')\n"
   ]
  },
  {
   "cell_type": "code",
   "execution_count": 20,
   "id": "9e7e1100",
   "metadata": {
    "execution": {
     "iopub.execute_input": "2023-12-02T14:22:09.336613Z",
     "iopub.status.busy": "2023-12-02T14:22:09.335850Z",
     "iopub.status.idle": "2023-12-02T14:22:09.423367Z",
     "shell.execute_reply": "2023-12-02T14:22:09.422577Z"
    },
    "papermill": {
     "duration": 0.103734,
     "end_time": "2023-12-02T14:22:09.425688",
     "exception": false,
     "start_time": "2023-12-02T14:22:09.321954",
     "status": "completed"
    },
    "tags": []
   },
   "outputs": [],
   "source": [
    "eng_train, eng_test, fr_train, fr_test = train_test_split(eng_seq, fr_seq, test_size=0.2)"
   ]
  },
  {
   "cell_type": "code",
   "execution_count": 21,
   "id": "581af6e7",
   "metadata": {
    "execution": {
     "iopub.execute_input": "2023-12-02T14:22:09.453151Z",
     "iopub.status.busy": "2023-12-02T14:22:09.452867Z",
     "iopub.status.idle": "2023-12-02T14:22:09.457876Z",
     "shell.execute_reply": "2023-12-02T14:22:09.457033Z"
    },
    "papermill": {
     "duration": 0.02086,
     "end_time": "2023-12-02T14:22:09.460000",
     "exception": false,
     "start_time": "2023-12-02T14:22:09.439140",
     "status": "completed"
    },
    "tags": []
   },
   "outputs": [
    {
     "name": "stdout",
     "output_type": "stream",
     "text": [
      "English sequences shape: (40000, 575)\n",
      "French sequences shape: (40000, 575)\n",
      "French vocabulary size: 47390\n"
     ]
    }
   ],
   "source": [
    "print(\"English sequences shape:\", eng_train.shape)\n",
    "print(\"French sequences shape:\", fr_train.shape)\n",
    "print(\"French vocabulary size:\", len(fr_tokenizer.word_index) + 1)\n"
   ]
  },
  {
   "cell_type": "code",
   "execution_count": 22,
   "id": "ad0ba667",
   "metadata": {
    "execution": {
     "iopub.execute_input": "2023-12-02T14:22:09.487324Z",
     "iopub.status.busy": "2023-12-02T14:22:09.487030Z",
     "iopub.status.idle": "2023-12-02T14:22:16.699168Z",
     "shell.execute_reply": "2023-12-02T14:22:16.698389Z"
    },
    "papermill": {
     "duration": 7.228398,
     "end_time": "2023-12-02T14:22:16.701804",
     "exception": false,
     "start_time": "2023-12-02T14:22:09.473406",
     "status": "completed"
    },
    "tags": []
   },
   "outputs": [],
   "source": [
    "model = Sequential()\n",
    "model.add(Embedding(input_dim=len(eng_tokenizer.word_index)+1, output_dim=256, input_length=eng_seq.shape[1]))\n",
    "model.add(LSTM(256, return_sequences=True))\n",
    "model.add(TimeDistributed(Dense(len(fr_tokenizer.word_index)+1, activation='softmax')))\n",
    "model.compile(optimizer=Adam(), loss='sparse_categorical_crossentropy')"
   ]
  },
  {
   "cell_type": "code",
   "execution_count": 23,
   "id": "723e98d1",
   "metadata": {
    "execution": {
     "iopub.execute_input": "2023-12-02T14:22:16.730296Z",
     "iopub.status.busy": "2023-12-02T14:22:16.729574Z",
     "iopub.status.idle": "2023-12-02T16:32:10.968418Z",
     "shell.execute_reply": "2023-12-02T16:32:10.967441Z"
    },
    "papermill": {
     "duration": 7796.338627,
     "end_time": "2023-12-02T16:32:13.054165",
     "exception": false,
     "start_time": "2023-12-02T14:22:16.715538",
     "status": "completed"
    },
    "tags": []
   },
   "outputs": [
    {
     "name": "stdout",
     "output_type": "stream",
     "text": [
      "Epoch 1/5\n",
      "5000/5000 [==============================] - 1578s 314ms/step - loss: 0.3177 - val_loss: 0.2679\n",
      "Epoch 2/5\n",
      "5000/5000 [==============================] - 1554s 311ms/step - loss: 0.2549 - val_loss: 0.2500\n",
      "Epoch 3/5\n",
      "5000/5000 [==============================] - 1554s 311ms/step - loss: 0.2327 - val_loss: 0.2409\n",
      "Epoch 4/5\n",
      "5000/5000 [==============================] - 1554s 311ms/step - loss: 0.2145 - val_loss: 0.2376\n",
      "Epoch 5/5\n",
      "5000/5000 [==============================] - 1554s 311ms/step - loss: 0.1989 - val_loss: 0.2378\n"
     ]
    },
    {
     "data": {
      "text/plain": [
       "<keras.src.callbacks.History at 0x7ae617604430>"
      ]
     },
     "execution_count": 23,
     "metadata": {},
     "output_type": "execute_result"
    }
   ],
   "source": [
    "model.fit(eng_train, fr_train, batch_size=8, epochs=5, validation_data=(eng_test, fr_test))"
   ]
  },
  {
   "cell_type": "code",
   "execution_count": 24,
   "id": "7a856692",
   "metadata": {
    "execution": {
     "iopub.execute_input": "2023-12-02T16:32:17.188071Z",
     "iopub.status.busy": "2023-12-02T16:32:17.187650Z",
     "iopub.status.idle": "2023-12-02T16:32:17.737996Z",
     "shell.execute_reply": "2023-12-02T16:32:17.737182Z"
    },
    "papermill": {
     "duration": 2.686005,
     "end_time": "2023-12-02T16:32:17.740477",
     "exception": false,
     "start_time": "2023-12-02T16:32:15.054472",
     "status": "completed"
    },
    "tags": []
   },
   "outputs": [
    {
     "name": "stderr",
     "output_type": "stream",
     "text": [
      "/opt/conda/lib/python3.10/site-packages/keras/src/engine/training.py:3000: UserWarning: You are saving your model as an HDF5 file via `model.save()`. This file format is considered legacy. We recommend using instead the native Keras format, e.g. `model.save('my_model.keras')`.\n",
      "  saving_api.save_model(\n"
     ]
    }
   ],
   "source": [
    "model.save(\"LSTM.h5\")"
   ]
  },
  {
   "cell_type": "code",
   "execution_count": 25,
   "id": "a7e28619",
   "metadata": {
    "execution": {
     "iopub.execute_input": "2023-12-02T16:32:21.825907Z",
     "iopub.status.busy": "2023-12-02T16:32:21.825171Z",
     "iopub.status.idle": "2023-12-02T16:32:21.831088Z",
     "shell.execute_reply": "2023-12-02T16:32:21.830188Z"
    },
    "papermill": {
     "duration": 2.007751,
     "end_time": "2023-12-02T16:32:21.832923",
     "exception": false,
     "start_time": "2023-12-02T16:32:19.825172",
     "status": "completed"
    },
    "tags": []
   },
   "outputs": [],
   "source": [
    "def translate(eng_text):\n",
    "    eng_seq = eng_tokenizer.texts_to_sequences([eng_text])\n",
    "    eng_seq = pad_sequences(eng_seq, maxlen=eng_train.shape[1], padding='post')\n",
    "    prediction = model.predict(eng_seq)\n",
    "    fr_seq = np.argmax(prediction[0], axis=-1)\n",
    "    fr_text = ' '.join([fr_tokenizer.index_word[i] for i in fr_seq if i > 0])\n",
    "    return fr_text\n"
   ]
  },
  {
   "cell_type": "code",
   "execution_count": 26,
   "id": "54fe2af5",
   "metadata": {
    "execution": {
     "iopub.execute_input": "2023-12-02T16:32:26.076860Z",
     "iopub.status.busy": "2023-12-02T16:32:26.076496Z",
     "iopub.status.idle": "2023-12-02T16:32:26.682215Z",
     "shell.execute_reply": "2023-12-02T16:32:26.681200Z"
    },
    "papermill": {
     "duration": 2.761433,
     "end_time": "2023-12-02T16:32:26.684533",
     "exception": false,
     "start_time": "2023-12-02T16:32:23.923100",
     "status": "completed"
    },
    "tags": []
   },
   "outputs": [
    {
     "name": "stdout",
     "output_type": "stream",
     "text": [
      "1/1 [==============================] - 0s 405ms/step\n",
      "Translated: il plus\n"
     ]
    }
   ],
   "source": [
    "new_sentence = \"Good Morning\"\n",
    "translated_sentence = translate(new_sentence)\n",
    "print(\"Translated:\", translated_sentence)\n"
   ]
  },
  {
   "cell_type": "markdown",
   "id": "351322ed",
   "metadata": {
    "papermill": {
     "duration": 2.012906,
     "end_time": "2023-12-02T16:32:30.792917",
     "exception": false,
     "start_time": "2023-12-02T16:32:28.780011",
     "status": "completed"
    },
    "tags": []
   },
   "source": [
    "# Model Insights:\n",
    "\n",
    "The model is not working as expected. So lets explore Bidirectional LSTM. The difference between LSTM and Bidirectional LSTM is that LSTM looks in a single direction, while Bidirectional LSTM can process sequences in both forward to backward and backward to forward direction. This would enhance the performance of the model. "
   ]
  },
  {
   "cell_type": "markdown",
   "id": "96c8e003",
   "metadata": {},
   "source": [
    "# Transformers "
   ]
  },
  {
   "cell_type": "markdown",
   "id": "e8c191fa",
   "metadata": {},
   "source": [
    "A transformer model is a neural network that learns context and thus meaning by tracking relationships in sequential data like the words in this sentence.\n",
    "\n",
    "Transformer models apply an evolving set of mathematical techniques, called attention or self-attention, to detect subtle ways even distant data elements in a series influence and depend on each other.\n",
    "\n",
    "First described in a 2017 paper from Google, transformers are among the newest and one of the most powerful classes of models invented to date. They’re driving a wave of advances in machine learning some have dubbed transformer AI.\n",
    "\n",
    "Stanford researchers called transformers “foundation models” in an August 2021 paper because they see them driving a paradigm shift in AI. The “sheer scale and scope of foundation models over the last few years have stretched our imagination of what is possible,” they wrote."
   ]
  },
  {
   "cell_type": "code",
   "execution_count": 6,
   "id": "e7a97bae",
   "metadata": {
    "execution": {
     "iopub.execute_input": "2023-12-02T14:31:53.394629Z",
     "iopub.status.busy": "2023-12-02T14:31:53.393950Z",
     "iopub.status.idle": "2023-12-02T14:32:17.868825Z",
     "shell.execute_reply": "2023-12-02T14:32:17.868153Z"
    },
    "papermill": {
     "duration": 24.487469,
     "end_time": "2023-12-02T14:32:17.868977",
     "exception": false,
     "start_time": "2023-12-02T14:31:53.381508",
     "status": "completed"
    },
    "tags": []
   },
   "outputs": [
    {
     "data": {
      "application/vnd.jupyter.widget-view+json": {
       "model_id": "0a1e2f6695414b45ab1ddb9425f49872",
       "version_major": 2,
       "version_minor": 0
      },
      "text/plain": [
       "Downloading:   0%|          | 0.00/1.42k [00:00<?, ?B/s]"
      ]
     },
     "metadata": {},
     "output_type": "display_data"
    },
    {
     "data": {
      "application/vnd.jupyter.widget-view+json": {
       "model_id": "c61ca5c44b7944ae8a953cbe37ff6c17",
       "version_major": 2,
       "version_minor": 0
      },
      "text/plain": [
       "Downloading:   0%|          | 0.00/778k [00:00<?, ?B/s]"
      ]
     },
     "metadata": {},
     "output_type": "display_data"
    },
    {
     "data": {
      "application/vnd.jupyter.widget-view+json": {
       "model_id": "4bf72606e0f847b59b4ce2175d89d0da",
       "version_major": 2,
       "version_minor": 0
      },
      "text/plain": [
       "Downloading:   0%|          | 0.00/802k [00:00<?, ?B/s]"
      ]
     },
     "metadata": {},
     "output_type": "display_data"
    },
    {
     "data": {
      "application/vnd.jupyter.widget-view+json": {
       "model_id": "2dd7ce10afa047a7b2a8f5818f08fb3c",
       "version_major": 2,
       "version_minor": 0
      },
      "text/plain": [
       "Downloading:   0%|          | 0.00/1.34M [00:00<?, ?B/s]"
      ]
     },
     "metadata": {},
     "output_type": "display_data"
    },
    {
     "data": {
      "application/vnd.jupyter.widget-view+json": {
       "model_id": "517c53c721f5495aa2886999a2927055",
       "version_major": 2,
       "version_minor": 0
      },
      "text/plain": [
       "Downloading:   0%|          | 0.00/42.0 [00:00<?, ?B/s]"
      ]
     },
     "metadata": {},
     "output_type": "display_data"
    },
    {
     "data": {
      "application/vnd.jupyter.widget-view+json": {
       "model_id": "1abda2c206e44eb3bca2dfdd88e35ea6",
       "version_major": 2,
       "version_minor": 0
      },
      "text/plain": [
       "Downloading:   0%|          | 0.00/301M [00:00<?, ?B/s]"
      ]
     },
     "metadata": {},
     "output_type": "display_data"
    }
   ],
   "source": [
    "# using pretrained model and then finetunig it on our dataset\n",
    "from transformers import AutoTokenizer, AutoModelForSeq2SeqLM\n",
    "tokenizer = AutoTokenizer.from_pretrained(\"Helsinki-NLP/opus-mt-en-fr\")\n",
    "model = AutoModelForSeq2SeqLM.from_pretrained(\"Helsinki-NLP/opus-mt-en-fr\").to('cuda')"
   ]
  },
  {
   "cell_type": "code",
   "execution_count": 7,
   "id": "0ee0cea7",
   "metadata": {
    "execution": {
     "iopub.execute_input": "2023-12-02T14:32:17.902869Z",
     "iopub.status.busy": "2023-12-02T14:32:17.901978Z",
     "iopub.status.idle": "2023-12-02T14:32:17.904819Z",
     "shell.execute_reply": "2023-12-02T14:32:17.904241Z"
    },
    "papermill": {
     "duration": 0.023729,
     "end_time": "2023-12-02T14:32:17.904953",
     "exception": false,
     "start_time": "2023-12-02T14:32:17.881224",
     "status": "completed"
    },
    "tags": []
   },
   "outputs": [],
   "source": [
    "optimizer = torch.optim.AdamW(model.parameters(),lr=0.0001)"
   ]
  },
  {
   "cell_type": "code",
   "execution_count": 8,
   "id": "e4e3ff23",
   "metadata": {
    "execution": {
     "iopub.execute_input": "2023-12-02T14:32:17.937354Z",
     "iopub.status.busy": "2023-12-02T14:32:17.936502Z",
     "iopub.status.idle": "2023-12-02T14:32:17.939429Z",
     "shell.execute_reply": "2023-12-02T14:32:17.938839Z"
    },
    "papermill": {
     "duration": 0.022508,
     "end_time": "2023-12-02T14:32:17.939585",
     "exception": false,
     "start_time": "2023-12-02T14:32:17.917077",
     "status": "completed"
    },
    "tags": []
   },
   "outputs": [],
   "source": [
    "def model_train():\n",
    "    model.train()\n",
    "    losses = 0\n",
    "    X = df['en']\n",
    "    y = df['fr']\n",
    "    max_epochs = 15\n",
    "    n_batches = 32\n",
    "    for epoch in tqdm(range(max_epochs)):\n",
    "        for i in tqdm(range(n_batches)):\n",
    "            # making batches \n",
    "            local_X, local_y = X[i*n_batches:(i+1)*n_batches,], y[i*n_batches:(i+1)*n_batches,]\n",
    "            # preparing the data according to the model input\n",
    "            batch = tokenizer.prepare_seq2seq_batch(list(local_X),list(local_y),return_tensors='pt').to('cuda')\n",
    "            output = model(**batch)\n",
    "            # loss can be taken directly from the model output\n",
    "            loss = output.loss\n",
    "            optimizer.zero_grad()\n",
    "            loss.backward()\n",
    "            optimizer.step()\n",
    "            losses = losses+loss\n",
    "    average = losses/len(df)\n",
    "    print('Loss: ' + str(average) )\n",
    "    \n",
    "    return model"
   ]
  },
  {
   "cell_type": "code",
   "execution_count": 9,
   "id": "a53d69b1",
   "metadata": {
    "execution": {
     "iopub.execute_input": "2023-12-02T14:32:17.993035Z",
     "iopub.status.busy": "2023-12-02T14:32:17.992181Z",
     "iopub.status.idle": "2023-12-02T14:33:59.879526Z",
     "shell.execute_reply": "2023-12-02T14:33:59.878863Z"
    },
    "papermill": {
     "duration": 101.928071,
     "end_time": "2023-12-02T14:33:59.879680",
     "exception": false,
     "start_time": "2023-12-02T14:32:17.951609",
     "status": "completed"
    },
    "tags": []
   },
   "outputs": [
    {
     "data": {
      "application/vnd.jupyter.widget-view+json": {
       "model_id": "474f5bd0c86c469badfeb04c32bd5af6",
       "version_major": 2,
       "version_minor": 0
      },
      "text/plain": [
       "  0%|          | 0/15 [00:00<?, ?it/s]"
      ]
     },
     "metadata": {},
     "output_type": "display_data"
    },
    {
     "data": {
      "application/vnd.jupyter.widget-view+json": {
       "model_id": "ec754de14a6149dc85f06b51204c62e1",
       "version_major": 2,
       "version_minor": 0
      },
      "text/plain": [
       "  0%|          | 0/32 [00:00<?, ?it/s]"
      ]
     },
     "metadata": {},
     "output_type": "display_data"
    },
    {
     "data": {
      "application/vnd.jupyter.widget-view+json": {
       "model_id": "253f4ce1387d4a449a86ad4c84e7951f",
       "version_major": 2,
       "version_minor": 0
      },
      "text/plain": [
       "  0%|          | 0/32 [00:00<?, ?it/s]"
      ]
     },
     "metadata": {},
     "output_type": "display_data"
    },
    {
     "data": {
      "application/vnd.jupyter.widget-view+json": {
       "model_id": "0ebb5ac4396f4858b4b925c992ec42e0",
       "version_major": 2,
       "version_minor": 0
      },
      "text/plain": [
       "  0%|          | 0/32 [00:00<?, ?it/s]"
      ]
     },
     "metadata": {},
     "output_type": "display_data"
    },
    {
     "data": {
      "application/vnd.jupyter.widget-view+json": {
       "model_id": "eea03bf7f755498e8ec2a64156bf1674",
       "version_major": 2,
       "version_minor": 0
      },
      "text/plain": [
       "  0%|          | 0/32 [00:00<?, ?it/s]"
      ]
     },
     "metadata": {},
     "output_type": "display_data"
    },
    {
     "data": {
      "application/vnd.jupyter.widget-view+json": {
       "model_id": "81f9de3222224717b3f8a023a160c61d",
       "version_major": 2,
       "version_minor": 0
      },
      "text/plain": [
       "  0%|          | 0/32 [00:00<?, ?it/s]"
      ]
     },
     "metadata": {},
     "output_type": "display_data"
    },
    {
     "data": {
      "application/vnd.jupyter.widget-view+json": {
       "model_id": "7a2526afd9a14df59f1a5a4e77b1e977",
       "version_major": 2,
       "version_minor": 0
      },
      "text/plain": [
       "  0%|          | 0/32 [00:00<?, ?it/s]"
      ]
     },
     "metadata": {},
     "output_type": "display_data"
    },
    {
     "data": {
      "application/vnd.jupyter.widget-view+json": {
       "model_id": "cd69b898a78c4e3a8d1de03a38fa8e29",
       "version_major": 2,
       "version_minor": 0
      },
      "text/plain": [
       "  0%|          | 0/32 [00:00<?, ?it/s]"
      ]
     },
     "metadata": {},
     "output_type": "display_data"
    },
    {
     "data": {
      "application/vnd.jupyter.widget-view+json": {
       "model_id": "475a1aa391394d428143bbfaeaa104a2",
       "version_major": 2,
       "version_minor": 0
      },
      "text/plain": [
       "  0%|          | 0/32 [00:00<?, ?it/s]"
      ]
     },
     "metadata": {},
     "output_type": "display_data"
    },
    {
     "data": {
      "application/vnd.jupyter.widget-view+json": {
       "model_id": "78a027a5f30248aea267ca297012ebcc",
       "version_major": 2,
       "version_minor": 0
      },
      "text/plain": [
       "  0%|          | 0/32 [00:00<?, ?it/s]"
      ]
     },
     "metadata": {},
     "output_type": "display_data"
    },
    {
     "data": {
      "application/vnd.jupyter.widget-view+json": {
       "model_id": "aca2f7071df141e1a680424d3a102b9b",
       "version_major": 2,
       "version_minor": 0
      },
      "text/plain": [
       "  0%|          | 0/32 [00:00<?, ?it/s]"
      ]
     },
     "metadata": {},
     "output_type": "display_data"
    },
    {
     "data": {
      "application/vnd.jupyter.widget-view+json": {
       "model_id": "492f1493a5b5464093367de89c459873",
       "version_major": 2,
       "version_minor": 0
      },
      "text/plain": [
       "  0%|          | 0/32 [00:00<?, ?it/s]"
      ]
     },
     "metadata": {},
     "output_type": "display_data"
    },
    {
     "data": {
      "application/vnd.jupyter.widget-view+json": {
       "model_id": "1dc3e39bc48249d4b080cc5aa0ef5dca",
       "version_major": 2,
       "version_minor": 0
      },
      "text/plain": [
       "  0%|          | 0/32 [00:00<?, ?it/s]"
      ]
     },
     "metadata": {},
     "output_type": "display_data"
    },
    {
     "data": {
      "application/vnd.jupyter.widget-view+json": {
       "model_id": "66404d6be64f404aa62c60578588864b",
       "version_major": 2,
       "version_minor": 0
      },
      "text/plain": [
       "  0%|          | 0/32 [00:00<?, ?it/s]"
      ]
     },
     "metadata": {},
     "output_type": "display_data"
    },
    {
     "data": {
      "application/vnd.jupyter.widget-view+json": {
       "model_id": "76f84211843a4acb8a901a99975f80b2",
       "version_major": 2,
       "version_minor": 0
      },
      "text/plain": [
       "  0%|          | 0/32 [00:00<?, ?it/s]"
      ]
     },
     "metadata": {},
     "output_type": "display_data"
    },
    {
     "data": {
      "application/vnd.jupyter.widget-view+json": {
       "model_id": "c993d4888f0e462a9f7e423c76753e2a",
       "version_major": 2,
       "version_minor": 0
      },
      "text/plain": [
       "  0%|          | 0/32 [00:00<?, ?it/s]"
      ]
     },
     "metadata": {},
     "output_type": "display_data"
    },
    {
     "name": "stdout",
     "output_type": "stream",
     "text": [
      "Loss: tensor(0.0010, device='cuda:0', grad_fn=<DivBackward0>)\n"
     ]
    }
   ],
   "source": [
    "model = model_train()"
   ]
  },
  {
   "cell_type": "code",
   "execution_count": 10,
   "id": "8648c9ce",
   "metadata": {
    "execution": {
     "iopub.execute_input": "2023-12-02T14:33:59.927141Z",
     "iopub.status.busy": "2023-12-02T14:33:59.926532Z",
     "iopub.status.idle": "2023-12-02T14:34:06.182666Z",
     "shell.execute_reply": "2023-12-02T14:34:06.182025Z"
    },
    "papermill": {
     "duration": 6.281771,
     "end_time": "2023-12-02T14:34:06.182817",
     "exception": false,
     "start_time": "2023-12-02T14:33:59.901046",
     "status": "completed"
    },
    "tags": []
   },
   "outputs": [
    {
     "data": {
      "text/plain": [
       "['<pad> Bonjour']"
      ]
     },
     "execution_count": 10,
     "metadata": {},
     "output_type": "execute_result"
    }
   ],
   "source": [
    "a = model.generate(**tokenizer.prepare_seq2seq_batch(['Good Morning'],return_tensors='pt').to('cuda'))\n",
    "tokenizer.batch_decode(a)"
   ]
  },
  {
   "cell_type": "code",
   "execution_count": 11,
   "id": "aa35002d",
   "metadata": {
    "execution": {
     "iopub.execute_input": "2023-12-02T14:34:06.232437Z",
     "iopub.status.busy": "2023-12-02T14:34:06.227109Z",
     "iopub.status.idle": "2023-12-02T14:34:07.081553Z",
     "shell.execute_reply": "2023-12-02T14:34:07.080856Z"
    },
    "papermill": {
     "duration": 0.878215,
     "end_time": "2023-12-02T14:34:07.081702",
     "exception": false,
     "start_time": "2023-12-02T14:34:06.203487",
     "status": "completed"
    },
    "tags": []
   },
   "outputs": [],
   "source": [
    "torch.save(model , 'model.pkl')"
   ]
  },
  {
   "cell_type": "markdown",
   "metadata": {},
   "source": [
    "# Conclusion:"
   ]
  },
  {
   "cell_type": "markdown",
   "metadata": {},
   "source": [
    "1. This has been an interesting experiment where I started with trying to understand RNN LSTM can be used for translation. Tried multiple hyperparameters such as Embedding size, LSTM layers, activation function, nothing worked.\n",
    "\n",
    "2. As a next step tried Bidirectional LSTM, that didnt work as well. Normal LSTM looks at the sequential data either from left to right or right to left, in case of bidirectional LSTM the sequences are looked from both the directions Right to Left and Left to Right. Unfortunately, I couldnt train as I was getting memory error while passing the text. \n",
    "\n",
    "3. While reading about translation and exploring about it at Huggingface, came across this model which has been already trained on a large corpus of opus data. \n",
    "\n",
    "4. This transformer model provides a much better result when compared to  LSTM model. So it has been used as a final model. \n",
    "\n",
    "5. In case of the current project, the only metric that would make sense would be the correct translation of different words.\n"
   ]
  },
  {
   "cell_type": "markdown",
   "metadata": {},
   "source": [
    "# References:\n",
    "\n",
    "1. https://blogs.nvidia.com/blog/what-is-a-transformer-model/\n",
    "\n",
    "2. https://opus.nlpl.eu/\n",
    "\n",
    "3.  https://huggingface.co/Helsinki-NLP/opus-mt-en-fr"
   ]
  }
 ],
 "metadata": {
  "kaggle": {
   "accelerator": "nvidiaTeslaT4",
   "dataSources": [
    {
     "datasetId": 1148896,
     "sourceId": 1926230,
     "sourceType": "datasetVersion"
    }
   ],
   "dockerImageVersionId": 30588,
   "isGpuEnabled": true,
   "isInternetEnabled": true,
   "language": "python",
   "sourceType": "notebook"
  },
  "kernelspec": {
   "display_name": "Python 3",
   "language": "python",
   "name": "python3"
  },
  "language_info": {
   "codemirror_mode": {
    "name": "ipython",
    "version": 3
   },
   "file_extension": ".py",
   "mimetype": "text/x-python",
   "name": "python",
   "nbconvert_exporter": "python",
   "pygments_lexer": "ipython3",
   "version": "3.7.6"
  },
  "papermill": {
   "default_parameters": {},
   "duration": 7894.680067,
   "end_time": "2023-12-02T16:33:12.500620",
   "environment_variables": {},
   "exception": true,
   "input_path": "__notebook__.ipynb",
   "output_path": "__notebook__.ipynb",
   "parameters": {},
   "start_time": "2023-12-02T14:21:37.820553",
   "version": "2.4.0"
  }
 },
 "nbformat": 4,
 "nbformat_minor": 5
}
